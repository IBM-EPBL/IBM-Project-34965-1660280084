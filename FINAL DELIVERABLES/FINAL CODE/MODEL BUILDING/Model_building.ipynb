{
  "nbformat": 4,
  "nbformat_minor": 0,
  "metadata": {
    "colab": {
      "provenance": []
    },
    "kernelspec": {
      "name": "python3",
      "display_name": "Python 3"
    },
    "language_info": {
      "name": "python"
    }
  },
  "cells": [
    {
      "cell_type": "code",
      "source": [
        "from keras.preprocessing.image import ImageDataGenerator"
      ],
      "metadata": {
        "id": "9Kr8kiW2SBOu"
      },
      "execution_count": null,
      "outputs": []
    },
    {
      "cell_type": "code",
      "source": [
        "train_datagen = ImageDataGenerator (rescale=1./255, \n",
        "                                     shear_range=0.2,zoom_range=0.2, \n",
        "                                     horizontal_flip=True)\n",
        "test_datagen=ImageDataGenerator(rescale=1./255)"
      ],
      "metadata": {
        "id": "G5XuVMK1SClT"
      },
      "execution_count": null,
      "outputs": []
    },
    {
      "cell_type": "code",
      "source": [
        "x_train = train_datagen.flow_from_directory(r'/content/drive/MyDrive/IBM--PROJECT/Dataset/test',target_size=(64, 64), \n",
        "                                            batch_size=32, \n",
        "                                            color_mode='grayscale',\n",
        "                                            class_mode='categorical')\n",
        "x_test = test_datagen.flow_from_directory(r'/content/drive/MyDrive/IBM--PROJECT/Dataset/train',\n",
        "                                          target_size=(64, 64), batch_size=32, \n",
        "                                          color_mode='grayscale', \n",
        "                                          class_mode='categorical')"
      ],
      "metadata": {
        "colab": {
          "base_uri": "https://localhost:8080/"
        },
        "id": "ej8CWP1vSG7W",
        "outputId": "2642a358-3f47-4bb9-ecbd-a870325db2b2"
      },
      "execution_count": null,
      "outputs": [
        {
          "output_type": "stream",
          "name": "stdout",
          "text": [
            "Found 30 images belonging to 6 classes.\n",
            "Found 594 images belonging to 6 classes.\n"
          ]
        }
      ]
    },
    {
      "cell_type": "markdown",
      "source": [
        "Importing the libraries"
      ],
      "metadata": {
        "id": "dcziNOGkFGHR"
      }
    },
    {
      "cell_type": "code",
      "execution_count": null,
      "metadata": {
        "id": "VHNxIK67CIO5"
      },
      "outputs": [],
      "source": [
        "import numpy as np\n",
        "import tensorflow\n",
        "from tensorflow.keras.models import Sequential\n",
        "from tensorflow.keras import layers\n",
        "from tensorflow.keras.layers import Dense,Flatten\n",
        "from tensorflow.keras.layers import Conv2D,MaxPooling2D\n",
        "from keras.preprocessing.image import ImageDataGenerator"
      ]
    },
    {
      "cell_type": "code",
      "source": [
        "print(x_train.class_indices) "
      ],
      "metadata": {
        "colab": {
          "base_uri": "https://localhost:8080/"
        },
        "id": "6FBz-mb3VGru",
        "outputId": "1a242d22-9de5-493d-aebf-a684717f1e84"
      },
      "execution_count": null,
      "outputs": [
        {
          "output_type": "stream",
          "name": "stdout",
          "text": [
            "{'0': 0, '1': 1, '2': 2, '3': 3, '4': 4, '5': 5}\n"
          ]
        }
      ]
    },
    {
      "cell_type": "markdown",
      "source": [
        "Initializing the model"
      ],
      "metadata": {
        "id": "rTxxJoG1FLWP"
      }
    },
    {
      "cell_type": "code",
      "source": [
        "model=Sequential()"
      ],
      "metadata": {
        "id": "RMsIJbiTDfWW"
      },
      "execution_count": null,
      "outputs": []
    },
    {
      "cell_type": "markdown",
      "source": [
        "Adding CNN Layers"
      ],
      "metadata": {
        "id": "Ek0bAt3AFQI2"
      }
    },
    {
      "cell_type": "code",
      "source": [
        "#First convolution layer and pooling\n",
        "model.add(Conv2D(32, (3,3),input_shape=(64,64,1), activation='relu'))\n",
        "model.add(MaxPooling2D(pool_size=(2,2)))\n",
        "\n",
        "#second convolution layer and pooling\n",
        "model.add(Conv2D(32, (3,3),activation='relu'))\n",
        "\n",
        "#input_shape is going to be the pooled feature maps from the previous convolution layer\n",
        "model.add(MaxPooling2D(pool_size=(2,2)))\n",
        "\n",
        "#flattening the layers\n",
        "model.add(Flatten())\n"
      ],
      "metadata": {
        "id": "mC5NuF7yD2na"
      },
      "execution_count": null,
      "outputs": []
    },
    {
      "cell_type": "markdown",
      "source": [
        "Adding Dense Layers"
      ],
      "metadata": {
        "id": "dSneyhtrImWZ"
      }
    },
    {
      "cell_type": "code",
      "source": [
        "model.add(Dense(units=128, activation='relu'))\n",
        "model.add(Dense(units=6, activation='softmax'))"
      ],
      "metadata": {
        "id": "c1QjqSLGLXvs"
      },
      "execution_count": null,
      "outputs": []
    },
    {
      "cell_type": "code",
      "source": [
        "model.summary()"
      ],
      "metadata": {
        "colab": {
          "base_uri": "https://localhost:8080/"
        },
        "id": "G17b7RHTLujX",
        "outputId": "633bacce-1937-4c0c-daf8-72a70d101970"
      },
      "execution_count": null,
      "outputs": [
        {
          "output_type": "stream",
          "name": "stdout",
          "text": [
            "Model: \"sequential\"\n",
            "_________________________________________________________________\n",
            " Layer (type)                Output Shape              Param #   \n",
            "=================================================================\n",
            " conv2d (Conv2D)             (None, 62, 62, 32)        320       \n",
            "                                                                 \n",
            " max_pooling2d (MaxPooling2D  (None, 31, 31, 32)       0         \n",
            " )                                                               \n",
            "                                                                 \n",
            " conv2d_1 (Conv2D)           (None, 29, 29, 32)        9248      \n",
            "                                                                 \n",
            " max_pooling2d_1 (MaxPooling  (None, 14, 14, 32)       0         \n",
            " 2D)                                                             \n",
            "                                                                 \n",
            " flatten (Flatten)           (None, 6272)              0         \n",
            "                                                                 \n",
            " dense (Dense)               (None, 128)               802944    \n",
            "                                                                 \n",
            " dense_1 (Dense)             (None, 6)                 774       \n",
            "                                                                 \n",
            "=================================================================\n",
            "Total params: 813,286\n",
            "Trainable params: 813,286\n",
            "Non-trainable params: 0\n",
            "_________________________________________________________________\n"
          ]
        }
      ]
    },
    {
      "cell_type": "markdown",
      "source": [
        "Configuring the learning process\n"
      ],
      "metadata": {
        "id": "jEIZPy3IL3it"
      }
    },
    {
      "cell_type": "code",
      "source": [
        "model.compile(optimizer='adam', \n",
        "              loss='categorical_crossentropy', \n",
        "              metrics=['accuracy'])"
      ],
      "metadata": {
        "id": "5oqhXmMiL7uj"
      },
      "execution_count": null,
      "outputs": []
    },
    {
      "cell_type": "markdown",
      "source": [
        "fitting the model\n"
      ],
      "metadata": {
        "id": "-0P_aDrzMZEU"
      }
    },
    {
      "cell_type": "code",
      "source": [
        "model.fit_generator(x_train, \n",
        "                    steps_per_epoch = len(x_train),\n",
        "                    epochs=20, \n",
        "                    validation_data=x_test, \n",
        "                    validation_steps = len(x_test))"
      ],
      "metadata": {
        "colab": {
          "base_uri": "https://localhost:8080/"
        },
        "id": "TE07MyaZQwQA",
        "outputId": "e4bf320c-6bae-470e-bb81-977718caac2c"
      },
      "execution_count": null,
      "outputs": [
        {
          "output_type": "stream",
          "name": "stderr",
          "text": [
            "/usr/local/lib/python3.7/dist-packages/ipykernel_launcher.py:5: UserWarning: `Model.fit_generator` is deprecated and will be removed in a future version. Please use `Model.fit`, which supports generators.\n",
            "  \"\"\"\n"
          ]
        },
        {
          "output_type": "stream",
          "name": "stdout",
          "text": [
            "Epoch 1/20\n",
            "1/1 [==============================] - 178s 178s/step - loss: 1.8065 - accuracy: 0.1667 - val_loss: 1.8369 - val_accuracy: 0.1667\n",
            "Epoch 2/20\n",
            "1/1 [==============================] - 2s 2s/step - loss: 1.8025 - accuracy: 0.1667 - val_loss: 1.7680 - val_accuracy: 0.2222\n",
            "Epoch 3/20\n",
            "1/1 [==============================] - 2s 2s/step - loss: 1.7120 - accuracy: 0.3667 - val_loss: 1.7462 - val_accuracy: 0.3081\n",
            "Epoch 4/20\n",
            "1/1 [==============================] - 2s 2s/step - loss: 1.6525 - accuracy: 0.6000 - val_loss: 1.7373 - val_accuracy: 0.1818\n",
            "Epoch 5/20\n",
            "1/1 [==============================] - 2s 2s/step - loss: 1.6361 - accuracy: 0.2667 - val_loss: 1.7044 - val_accuracy: 0.3232\n",
            "Epoch 6/20\n",
            "1/1 [==============================] - 2s 2s/step - loss: 1.5759 - accuracy: 0.4667 - val_loss: 1.6721 - val_accuracy: 0.3300\n",
            "Epoch 7/20\n",
            "1/1 [==============================] - 2s 2s/step - loss: 1.4606 - accuracy: 0.7333 - val_loss: 1.6358 - val_accuracy: 0.3266\n",
            "Epoch 8/20\n",
            "1/1 [==============================] - 2s 2s/step - loss: 1.3712 - accuracy: 0.8000 - val_loss: 1.5914 - val_accuracy: 0.4108\n",
            "Epoch 9/20\n",
            "1/1 [==============================] - 2s 2s/step - loss: 1.2951 - accuracy: 0.8000 - val_loss: 1.5590 - val_accuracy: 0.4276\n",
            "Epoch 10/20\n",
            "1/1 [==============================] - 2s 2s/step - loss: 1.1782 - accuracy: 0.8000 - val_loss: 1.5287 - val_accuracy: 0.4377\n",
            "Epoch 11/20\n",
            "1/1 [==============================] - 2s 2s/step - loss: 1.0891 - accuracy: 0.8000 - val_loss: 1.5239 - val_accuracy: 0.4040\n",
            "Epoch 12/20\n",
            "1/1 [==============================] - 2s 2s/step - loss: 0.9736 - accuracy: 0.8333 - val_loss: 1.5132 - val_accuracy: 0.4579\n",
            "Epoch 13/20\n",
            "1/1 [==============================] - 2s 2s/step - loss: 0.8143 - accuracy: 0.9000 - val_loss: 1.5394 - val_accuracy: 0.4478\n",
            "Epoch 14/20\n",
            "1/1 [==============================] - 2s 2s/step - loss: 0.6969 - accuracy: 0.9000 - val_loss: 1.5465 - val_accuracy: 0.3990\n",
            "Epoch 15/20\n",
            "1/1 [==============================] - 2s 2s/step - loss: 0.6414 - accuracy: 0.8667 - val_loss: 1.5990 - val_accuracy: 0.4158\n",
            "Epoch 16/20\n",
            "1/1 [==============================] - 2s 2s/step - loss: 0.6065 - accuracy: 0.9333 - val_loss: 1.7579 - val_accuracy: 0.4428\n",
            "Epoch 17/20\n",
            "1/1 [==============================] - 2s 2s/step - loss: 0.6496 - accuracy: 0.8333 - val_loss: 1.7206 - val_accuracy: 0.3923\n",
            "Epoch 18/20\n",
            "1/1 [==============================] - 2s 2s/step - loss: 0.5135 - accuracy: 0.8667 - val_loss: 1.7055 - val_accuracy: 0.3939\n",
            "Epoch 19/20\n",
            "1/1 [==============================] - 2s 2s/step - loss: 0.4450 - accuracy: 0.8667 - val_loss: 1.7683 - val_accuracy: 0.4158\n",
            "Epoch 20/20\n",
            "1/1 [==============================] - 2s 2s/step - loss: 0.4289 - accuracy: 0.8667 - val_loss: 1.9319 - val_accuracy: 0.4714\n"
          ]
        },
        {
          "output_type": "execute_result",
          "data": {
            "text/plain": [
              "<keras.callbacks.History at 0x7f2bd13db810>"
            ]
          },
          "metadata": {},
          "execution_count": 11
        }
      ]
    },
    {
      "cell_type": "markdown",
      "source": [
        "save the model"
      ],
      "metadata": {
        "id": "-z7MgqrRWc3r"
      }
    },
    {
      "cell_type": "code",
      "source": [
        "model.save('/content/drive/MyDrive/IBM--PROJECT/gesture.h5') "
      ],
      "metadata": {
        "id": "G-DHI_LvUGM3"
      },
      "execution_count": null,
      "outputs": []
    },
    {
      "cell_type": "code",
      "source": [
        "model_json = model.to_json()\n",
        "with open(\"/content/drive/MyDrive/IBM--PROJECT/model-bw.json\", \"w\") as json_file:\n",
        "    json_file.write(model_json)"
      ],
      "metadata": {
        "id": "fX4_In6oUKWO"
      },
      "execution_count": null,
      "outputs": []
    },
    {
      "cell_type": "markdown",
      "source": [
        "Test the Model"
      ],
      "metadata": {
        "id": "_w7s2HFoWhm2"
      }
    },
    {
      "cell_type": "code",
      "source": [
        "from tensorflow.keras.models import load_model \n",
        "from keras.preprocessing import image \n",
        "model= load_model(\"gesture.h5\") #Loading the model for testing ="
      ],
      "metadata": {
        "id": "4BrgShq2UN5A"
      },
      "execution_count": null,
      "outputs": []
    },
    {
      "cell_type": "code",
      "source": [
        "import tensorflow as tf\n",
        "import numpy as np  \n",
        "from tensorflow.keras.preprocessing.image import ImageDataGenerator\n",
        "from tensorflow.keras.models import load_model\n",
        "from tensorflow.keras.preprocessing import image\n",
        "model = load_model(\"gesture.h5\")\n",
        "path= r\"/content/drive/MyDrive/IBM--PROJECT/Dataset/test/2/3.jpg\""
      ],
      "metadata": {
        "id": "g7UNQtfjUXJh"
      },
      "execution_count": null,
      "outputs": []
    },
    {
      "cell_type": "code",
      "source": [
        "%pylab inline\n",
        "import matplotlib.pyplot as plt\n",
        "import matplotlib.image as mpimg\n",
        "imgs = mpimg.imread(path)\n",
        "imgplot = plt.imshow(imgs)\n",
        "plt.show()"
      ],
      "metadata": {
        "colab": {
          "base_uri": "https://localhost:8080/",
          "height": 287
        },
        "id": "pppz6A9KXpFa",
        "outputId": "e58da3f8-ff7c-4ab8-80ee-53c5cb6d8314"
      },
      "execution_count": null,
      "outputs": [
        {
          "output_type": "stream",
          "name": "stdout",
          "text": [
            "Populating the interactive namespace from numpy and matplotlib\n"
          ]
        },
        {
          "output_type": "display_data",
          "data": {
            "text/plain": [
              "<Figure size 432x288 with 1 Axes>"
            ],
            "image/png": "[encoded data removed]"
          },
          "metadata": {
            "needs_background": "light"
          }
        }
      ]
    },
    {
      "cell_type": "code",
      "source": [
        "img = image.load_img(path,\n",
        "                     color_mode='grayscale',\n",
        "                     target_size= (64,64))\n",
        "x = image.img_to_array(img)#image to array\n",
        "x.shape"
      ],
      "metadata": {
        "colab": {
          "base_uri": "https://localhost:8080/"
        },
        "id": "u8M6ZI7aXv5L",
        "outputId": "1598b68a-73fb-4de6-81b6-9944a9331a3b"
      },
      "execution_count": null,
      "outputs": [
        {
          "output_type": "execute_result",
          "data": {
            "text/plain": [
              "(64, 64, 1)"
            ]
          },
          "metadata": {},
          "execution_count": 22
        }
      ]
    },
    {
      "cell_type": "code",
      "source": [
        "type(x)"
      ],
      "metadata": {
        "colab": {
          "base_uri": "https://localhost:8080/"
        },
        "id": "11Pbke_zX1Pp",
        "outputId": "2fec498e-8adf-484e-ded0-51ed93c0ba78"
      },
      "execution_count": null,
      "outputs": [
        {
          "output_type": "execute_result",
          "data": {
            "text/plain": [
              "numpy.ndarray"
            ]
          },
          "metadata": {},
          "execution_count": 23
        }
      ]
    },
    {
      "cell_type": "code",
      "source": [
        "x = np.expand_dims(x,axis=0)"
      ],
      "metadata": {
        "id": "v7aDMytsX3Ql"
      },
      "execution_count": null,
      "outputs": []
    },
    {
      "cell_type": "code",
      "source": [
        "x.shape"
      ],
      "metadata": {
        "colab": {
          "base_uri": "https://localhost:8080/"
        },
        "id": "rqoQPWDEX6hP",
        "outputId": "5507b62b-d29d-4d5f-df3b-87cc38d39728"
      },
      "execution_count": null,
      "outputs": [
        {
          "output_type": "execute_result",
          "data": {
            "text/plain": [
              "(1, 64, 64, 1)"
            ]
          },
          "metadata": {},
          "execution_count": 25
        }
      ]
    },
    {
      "cell_type": "code",
      "source": [
        "pred=(model.predict(x) > 0.5).astype(\"int64\")\n",
        "pred"
      ],
      "metadata": {
        "colab": {
          "base_uri": "https://localhost:8080/"
        },
        "id": "3dNkDE7DX-ml",
        "outputId": "6bff3791-c4c7-4660-bd88-c13e69bda346"
      },
      "execution_count": null,
      "outputs": [
        {
          "output_type": "stream",
          "name": "stdout",
          "text": [
            "1/1 [==============================] - 0s 120ms/step\n"
          ]
        },
        {
          "output_type": "execute_result",
          "data": {
            "text/plain": [
              "array([[0, 0, 1, 0, 0, 0]])"
            ]
          },
          "metadata": {},
          "execution_count": 26
        }
      ]
    },
    {
      "cell_type": "code",
      "source": [
        "index=['0', '1', '2', '3', '4', '5']"
      ],
      "metadata": {
        "id": "swcd8n_tYBqY"
      },
      "execution_count": null,
      "outputs": []
    },
    {
      "cell_type": "code",
      "source": [
        "index[np.argmax(pred[0])]"
      ],
      "metadata": {
        "colab": {
          "base_uri": "https://localhost:8080/",
          "height": 35
        },
        "id": "r9eoZ_DPYFyM",
        "outputId": "25d2ece2-4677-4203-d1a2-3715e2ee6e69"
      },
      "execution_count": null,
      "outputs": [
        {
          "output_type": "execute_result",
          "data": {
            "text/plain": [
              "'2'"
            ],
            "application/vnd.google.colaboratory.intrinsic+json": {
              "type": "string"
            }
          },
          "metadata": {},
          "execution_count": 28
        }
      ]
    },
    {
      "cell_type": "code",
      "source": [
        "import numpy as np\n",
        "p=[]\n",
        "for i in range(0,6):\n",
        "    for j in range(0,5):\n",
        "        path= r\"/content/drive/MyDrive/IBM--PROJECT/Dataset/test/\"+str(i)+\"/\"+str(j)+\".jpg\"\n",
        "        img = image.load_img(path,color_mode=\"grayscale\",target_size=(64,64))\n",
        "        x = image.img_to_array(img)#image to array\n",
        "        x = np.expand_dims (x,axis = 0) #changing the shape\n",
        "        pred = np.argmax(model.predict(x), axis=-1) #predicting the classes\n",
        "        p.append(pred)\n",
        "print(p)"
      ],
      "metadata": {
        "colab": {
          "base_uri": "https://localhost:8080/"
        },
        "id": "2JoS0v7uYJbV",
        "outputId": "d0aae3ff-21a4-49b4-daf1-dea903b4dba1"
      },
      "execution_count": null,
      "outputs": [
        {
          "output_type": "stream",
          "name": "stdout",
          "text": [
            "1/1 [==============================] - 0s 92ms/step\n",
            "1/1 [==============================] - 0s 71ms/step\n",
            "1/1 [==============================] - 0s 18ms/step\n",
            "1/1 [==============================] - 0s 20ms/step\n",
            "1/1 [==============================] - 0s 21ms/step\n",
            "1/1 [==============================] - 0s 19ms/step\n",
            "1/1 [==============================] - 0s 27ms/step\n",
            "1/1 [==============================] - 0s 18ms/step\n",
            "1/1 [==============================] - 0s 18ms/step\n",
            "1/1 [==============================] - 0s 19ms/step\n",
            "1/1 [==============================] - 0s 67ms/step\n",
            "1/1 [==============================] - 0s 102ms/step\n",
            "1/1 [==============================] - 0s 54ms/step\n",
            "1/1 [==============================] - 0s 18ms/step\n",
            "1/1 [==============================] - 0s 21ms/step\n",
            "1/1 [==============================] - 0s 18ms/step\n",
            "1/1 [==============================] - 0s 18ms/step\n",
            "1/1 [==============================] - 0s 22ms/step\n",
            "1/1 [==============================] - 0s 28ms/step\n",
            "1/1 [==============================] - 0s 20ms/step\n",
            "1/1 [==============================] - 0s 18ms/step\n",
            "1/1 [==============================] - 0s 82ms/step\n",
            "1/1 [==============================] - 0s 33ms/step\n",
            "1/1 [==============================] - 0s 24ms/step\n",
            "1/1 [==============================] - 0s 19ms/step\n",
            "1/1 [==============================] - 0s 19ms/step\n",
            "1/1 [==============================] - 0s 22ms/step\n",
            "1/1 [==============================] - 0s 23ms/step\n",
            "1/1 [==============================] - 0s 20ms/step\n",
            "1/1 [==============================] - 0s 19ms/step\n",
            "[array([0]), array([0]), array([0]), array([0]), array([0]), array([1]), array([1]), array([1]), array([1]), array([1]), array([2]), array([2]), array([2]), array([2]), array([2]), array([3]), array([3]), array([3]), array([4]), array([3]), array([4]), array([4]), array([4]), array([4]), array([4]), array([5]), array([5]), array([5]), array([5]), array([4])]\n"
          ]
        }
      ]
    },
    {
      "cell_type": "code",
      "source": [
        "result=[]\n",
        "index=['0','1','2','3','4','5']\n",
        "for i in p:\n",
        "    result.append(index[i[0]])\n",
        "    \n",
        "print(result)"
      ],
      "metadata": {
        "colab": {
          "base_uri": "https://localhost:8080/"
        },
        "id": "9Ht-lym4ZdZl",
        "outputId": "88700e08-4891-4a9e-b722-0d742485fd72"
      },
      "execution_count": null,
      "outputs": [
        {
          "output_type": "stream",
          "name": "stdout",
          "text": [
            "['0', '0', '0', '0', '0', '1', '1', '1', '1', '1', '2', '2', '2', '2', '2', '3', '3', '3', '4', '3', '4', '4', '4', '4', '4', '5', '5', '5', '5', '4']\n"
          ]
        }
      ]
    }
  ]
}