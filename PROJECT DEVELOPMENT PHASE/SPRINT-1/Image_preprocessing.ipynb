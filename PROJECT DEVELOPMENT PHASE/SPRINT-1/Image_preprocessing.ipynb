{
  "nbformat": 4,
  "nbformat_minor": 0,
  "metadata": {
    "colab": {
      "provenance": []
    },
    "kernelspec": {
      "name": "python3",
      "display_name": "Python 3"
    },
    "language_info": {
      "name": "python"
    }
  },
  "cells": [
    {
      "cell_type": "code",
      "execution_count": 1,
      "metadata": {
        "id": "m7_PcBhE8hv-"
      },
      "outputs": [],
      "source": [
        "from keras.preprocessing.image import ImageDataGenerator"
      ]
    },
    {
      "cell_type": "code",
      "source": [
        "train_datagen = ImageDataGenerator(rescale=1./255,shear_range=0.2,zoom_range=0.2,horizontal_flip=True)\n",
        "test_datageb = ImageDataGenerator(rescale=1./255)"
      ],
      "metadata": {
        "id": "d9r11dor9rZr"
      },
      "execution_count": 2,
      "outputs": []
    },
    {
      "cell_type": "code",
      "source": [
        "x_train = train_datagen.flow_from_directory(r'/content/drive/MyDrive/IBM--PROJECT/Dataset/test',target_size=(64,64),batch_size=32,class_mode='categorical')\n",
        "x_test = train_datagen.flow_from_directory(r'/content/drive/MyDrive/IBM--PROJECT/Dataset/train',target_size=(64,64),batch_size=32,class_mode='categorical')"
      ],
      "metadata": {
        "id": "iXiGxz6T-RsV",
        "outputId": "bd95f982-f722-4d0d-b29c-05159590e6db",
        "colab": {
          "base_uri": "https://localhost:8080/"
        }
      },
      "execution_count": 3,
      "outputs": [
        {
          "output_type": "stream",
          "name": "stdout",
          "text": [
            "Found 30 images belonging to 6 classes.\n",
            "Found 594 images belonging to 6 classes.\n"
          ]
        }
      ]
    }
  ]
}